{
  "nbformat": 4,
  "nbformat_minor": 0,
  "metadata": {
    "colab": {
      "name": "Counter.ipynb",
      "provenance": [],
      "collapsed_sections": [],
      "include_colab_link": true
    },
    "kernelspec": {
      "name": "python3",
      "display_name": "Python 3"
    },
    "accelerator": "GPU"
  },
  "cells": [
    {
      "cell_type": "markdown",
      "metadata": {
        "id": "view-in-github",
        "colab_type": "text"
      },
      "source": [
        "<a href=\"https://colab.research.google.com/github/mr7495/Pistachio-Counting/blob/master/Counter.ipynb\" target=\"_parent\"><img src=\"https://colab.research.google.com/assets/colab-badge.svg\" alt=\"Open In Colab\"/></a>"
      ]
    },
    {
      "cell_type": "code",
      "metadata": {
        "id": "ex7zgpfcbMjj",
        "colab_type": "code",
        "colab": {}
      },
      "source": [
        "#Counting Algorithm from https://github.com/mr7495/Pistachio-Counting"
      ],
      "execution_count": 0,
      "outputs": []
    },
    {
      "cell_type": "code",
      "metadata": {
        "id": "ngPzQYJlhp2B",
        "colab_type": "code",
        "colab": {}
      },
      "source": [
        "from google.colab import drive\n",
        "drive.mount('/content/drive/')"
      ],
      "execution_count": 0,
      "outputs": []
    },
    {
      "cell_type": "code",
      "metadata": {
        "id": "CL1VlJV8hxnL",
        "colab_type": "code",
        "colab": {}
      },
      "source": [
        "!pip install git+https://github.com/mr7495/RetinaNet --upgrade"
      ],
      "execution_count": 0,
      "outputs": []
    },
    {
      "cell_type": "code",
      "metadata": {
        "id": "G9Zbl-aeh7fh",
        "colab_type": "code",
        "colab": {}
      },
      "source": [
        "!git clone https://github.com/mr7495/RetinaNet"
      ],
      "execution_count": 0,
      "outputs": []
    },
    {
      "cell_type": "code",
      "metadata": {
        "id": "W1XoObGCAOf9",
        "colab_type": "code",
        "colab": {}
      },
      "source": [
        "import keras\n",
        "from keras_retinanet import models\n",
        "import cv2\n",
        "import numpy as np\n",
        "import time\n",
        "import tensorflow as tf\n",
        "import csv\n",
        "import shutil\n",
        "from keras_retinanet.preprocessing.generator import Generator\n",
        "from keras import backend\n",
        "import os\n",
        "from keras_retinanet.utils.eval import _get_detections\n",
        "from keras_retinanet.preprocessing.csv_generator import CSVGenerator\n",
        "import random"
      ],
      "execution_count": 0,
      "outputs": []
    },
    {
      "cell_type": "code",
      "metadata": {
        "id": "NpLPfkhPh8yw",
        "colab_type": "code",
        "colab": {}
      },
      "source": [
        "cd RetinaNet"
      ],
      "execution_count": 0,
      "outputs": []
    },
    {
      "cell_type": "code",
      "metadata": {
        "id": "zTWxi9i9k6nF",
        "colab_type": "code",
        "colab": {}
      },
      "source": [
        "!python setup.py build_ext --inplace"
      ],
      "execution_count": 0,
      "outputs": []
    },
    {
      "cell_type": "code",
      "metadata": {
        "id": "aG-zAo_NiGxK",
        "colab_type": "code",
        "colab": {}
      },
      "source": [
        "cd .."
      ],
      "execution_count": 0,
      "outputs": []
    },
    {
      "cell_type": "code",
      "metadata": {
        "colab_type": "code",
        "id": "pNBUKNv_M5zv",
        "colab": {}
      },
      "source": [
        "def distance(a,b):\n",
        "  mida=[(a[0]+a[2])/2,(a[1]+a[3])/2]\n",
        "  midb=[(b[0]+b[2])/2,(b[1]+b[3])/2]\n",
        "  dist=np.sqrt((mida[0]-midb[0])**2+(mida[1]-midb[1])**2)\n",
        "  return(dist)"
      ],
      "execution_count": 0,
      "outputs": []
    },
    {
      "cell_type": "code",
      "metadata": {
        "id": "YF6RmPm00Px_",
        "colab_type": "code",
        "colab": {}
      },
      "source": [
        "#This function extracts the frames of the videos\n",
        "def frame_generator(video_path):\n",
        "  cap = cv2.VideoCapture(video_path)\n",
        "  count = 0\n",
        "  data=[]\n",
        "  try:\n",
        "    shutil.rmtree('frames')\n",
        "  except:\n",
        "    pass\n",
        "  try:\n",
        "    os.mkdir('frames')\n",
        "  except:\n",
        "    pass\n",
        "  while cap.isOpened():\n",
        "      ret,frame = cap.read()\n",
        "      if ret is True:\n",
        "          image=cv2.resize(frame,(1070,600))\n",
        "          cv2.imwrite(\"frames/%d.jpg\" % count, image)\n",
        "          data.append([\"%d.jpg\" % count,0,0,20,20,0])\n",
        "          count = count + 1\n",
        "      else:\n",
        "          break\n",
        "  cap.release()\n",
        "  with open('frames/names.csv', mode='w',newline='') as csvfile:\n",
        "      csv_writer = csv.writer(csvfile, delimiter=',', quotechar='\"',quoting=csv.QUOTE_MINIMAL)\n",
        "      for d in data:\n",
        "          csv_writer.writerow(d)  \n",
        "  with open('frames/classes.csv', mode='w',newline='') as csvfile:\n",
        "      csv_writer = csv.writer(csvfile, delimiter=',', quotechar='\"',quoting=csv.QUOTE_MINIMAL)\n",
        "      csv_writer.writerow([0,0])  \n",
        "      csv_writer.writerow([1,1]) \n",
        "  "
      ],
      "execution_count": 0,
      "outputs": []
    },
    {
      "cell_type": "code",
      "metadata": {
        "id": "N_cVucUqhfFs",
        "colab_type": "code",
        "colab": {}
      },
      "source": [
        "#This function will get the detections from the trained netwrok\n",
        "def get_detections(generator,model):\n",
        "  numbers=0\n",
        "  for r,d,f in os.walk('frames'):\n",
        "      for file in f:\n",
        "        if '.jpg' in file:\n",
        "          numbers+=1\n",
        "  all_boxes=[]\n",
        "  all_labels=[]\n",
        "  for i in range(generator.size()):\n",
        "    if i%50==0:\n",
        "      print(i,'Frames Processed/',numbers,'Frames')\n",
        "    raw_image    = generator.load_image(i)\n",
        "    image        = generator.preprocess_image(raw_image.copy())\n",
        "    image, scale = generator.resize_image(image)\n",
        "\n",
        "    boxes, scores, labels = model.predict_on_batch(np.expand_dims(image, axis=0))\n",
        "\n",
        "    # correct for image scale\n",
        "    boxes /= scale\n",
        "    indices= np.argwhere(scores[0]>=0.5)\n",
        "    boxes=boxes[0][indices]\n",
        "    scores=scores[0][indices]\n",
        "    labels=labels[0][indices]\n",
        "    boxes=boxes.copy()\n",
        "    boxes=boxes.reshape((np.shape(boxes)[0],np.shape(boxes)[2]))\n",
        "    all_boxes.append(boxes)\n",
        "    all_labels.append(labels)\n",
        "  return(all_boxes,all_labels)"
      ],
      "execution_count": 0,
      "outputs": []
    },
    {
      "cell_type": "code",
      "metadata": {
        "id": "jHP0HbP-0QAG",
        "colab_type": "code",
        "colab": {}
      },
      "source": [
        "#Counting Algorithm\n",
        "def count(model,video_path,all_boxes,all_labels):\n",
        "  # first we have to set the inital threshold\n",
        "  start=time.time()\n",
        "  previous=0 #number of pistachios in the previous frame\n",
        "  current=0 #number of pistachios in the current frame\n",
        "  boxesb=[] # pistachios detected boxes in previous frame\n",
        "  max_dist=20 # the maximum allowed distance for assignment\n",
        "  first_inputs=[] #List of the new inserted pistachios\n",
        "  for i in range(len(all_boxes)):\n",
        "    boxesl=all_boxes[i] # pistachios detected boxes in the current frame\n",
        "    labels=all_labels[i] # labels of the detected pistachios in the current frame\n",
        "    current=len(boxesl) #number of pistachios in the current frame\n",
        "    boxess=[] # list of the pistachios in the previous and current frames that should be investigated for assignment\n",
        "    selected_inds=[] #list of the assigned pistachios\n",
        "    #Here we assign the pistachios in previous and current frames\n",
        "    if current > previous:\n",
        "      for nbl,bl in enumerate(boxesl):\n",
        "        distances=[]\n",
        "        boxess=[]\n",
        "        for nbb,bb in enumerate(boxesb):\n",
        "          distances.append(distance(bl,bb))\n",
        "          boxess.append([nbl,nbb])\n",
        "        if len(distances)==0:\n",
        "          continue\n",
        "        if min(distances)<=max_dist:\n",
        "          bbl,bbb =boxess[np.argmin(distances)]\n",
        "          selected_inds.append(bbl)\n",
        "    else:\n",
        "      for nbl,bl in enumerate(boxesl):\n",
        "        distances=[]\n",
        "        boxess=[]\n",
        "        for nbb,bb in enumerate(boxesb):\n",
        "          distances.append(distance(bl,bb))\n",
        "          boxess.append([nbl,nbb])\n",
        "        if len(distances)==0:\n",
        "          continue\n",
        "        if min(distances)<=max_dist:\n",
        "          bbl,bbb =boxess[np.argmin(distances)]\n",
        "          selected_inds.append(bbl)\n",
        "\n",
        "    \n",
        "    for index in range(len(boxesl)):\n",
        "        if index not in selected_inds: #if a detected pistachio in the current frame not be assigned to any pistachios in the previous frame\n",
        "          new_box= boxesl[index] #Get the detected box of this pistachio\n",
        "          mid_p=[(new_box[0]+new_box[2])/2,(new_box[1]+new_box[3])/2] #compute the centeral point of the detected box\n",
        "          if mid_p[1] < 200: #if the height of the centeral point be less than 200 (our image heigh is 600)\n",
        "            first_inputs.append(mid_p[1]) #this pistachio will be considered as a new input\n",
        "    boxesb=boxesl.copy()\n",
        "    previous=current\n",
        "  initial_threshold=np.average(first_inputs) #the average of the new inputs heights would be set as initial threshold\n",
        "\n",
        "  # After setting the inital and end threshhold, counting begins\n",
        "  previous=0\n",
        "  current=0\n",
        "  boxesb=[]\n",
        "  tracks_list=[] #The list of the tracked pistachios\n",
        "  indexesb={} #This dictionary indicates that each of the pistachios in the previous frame belongs to which track list\n",
        "  end_threshold=500\n",
        "  max_dist=20\n",
        "  count=0 #number of all the pistachios\n",
        "  for i in range(len(all_boxes)):\n",
        "    boxesl=all_boxes[i]\n",
        "    labels=all_labels[i]\n",
        "    current=len(boxesl)\n",
        "    boxess=[]\n",
        "    selected_inds=[]  #selected pistachios for assignment in the current frame\n",
        "    selected_inds_b=[] #selected pistachios for assignment in the previous frame\n",
        "    indexes={} #This dictionary indicates that each of the pistachios in the current frame belongs to which track list\n",
        "    losts=[] #The Lost-Pistachios List\n",
        "    # Here assignment will be performed\n",
        "    if current > previous:\n",
        "      for nbl,bl in enumerate(boxesl):\n",
        "        distances=[]\n",
        "        boxess=[]\n",
        "        for nbb,bb in enumerate(boxesb):\n",
        "          distances.append(distance(bl,bb))\n",
        "          boxess.append([nbl,nbb])\n",
        "        if len(distances)==0:\n",
        "          continue\n",
        "        if min(distances)<=max_dist:\n",
        "          bbl,bbb =boxess[np.argmin(distances)]\n",
        "          selected_inds.append(bbl)\n",
        "          selected_inds_b.append(bbb)\n",
        "    else:\n",
        "      for nbb,bb in enumerate(boxesb):\n",
        "        distances=[]\n",
        "        boxess=[]\n",
        "        for nbl,bl in enumerate(boxesl):\n",
        "          distances.append(distance(bl,bb))\n",
        "          boxess.append([nbl,nbb])\n",
        "        if len(distances)==0:\n",
        "          continue\n",
        "        if min(distances)<=max_dist:\n",
        "          bbl,bbb =boxess[np.argmin(distances)]\n",
        "          selected_inds.append(bbl)\n",
        "          selected_inds_b.append(bbb)\n",
        "      \n",
        "    for ns,s in enumerate(selected_inds_b):\n",
        "      if indexesb[s]=='r': # check if the pistachio in the previous frame not be in exiting area  \n",
        "        indexes[selected_inds[ns]]='r' #indicate that this pistachio should not be added to the track list\n",
        "      else:\n",
        "        bbox=boxesl[selected_inds[ns]] #compute the current frame pistachio box\n",
        "        bbox_y=(bbox[1]+bbox[3])/2 #compute the box mid-height\n",
        "        if bbox_y<end_threshold: # check if the pistachio in the current frame not be in exiting area    \n",
        "          tracks_list[indexesb[s]].append([i,bbox,bbox_y,labels[selected_inds[ns]]])\n",
        "          indexes[selected_inds[ns]]=indexesb[s]\n",
        "        else: # reject to be added to the track list  \n",
        "          tracks_list[indexesb[s]].append(['END']) #finish the track list\n",
        "          indexes[selected_inds[ns]]='r'\n",
        "    #Here we detect the new inserted pistachios   \n",
        "    for index in range(len(boxesl)): \n",
        "      if index not in selected_inds: #if the current frame pistachio is not assigned\n",
        "        new_box= boxesl[index] #get the box of the pistachio\n",
        "        mid_p=[(new_box[0]+new_box[2])/2,(new_box[1]+new_box[3])/2] #compute the box mid-point\n",
        "        if mid_p[1] < initial_threshold: #if the height of the mid-point be less than the initial threshold\n",
        "          if current > previous: #if the number of pistachios have been increased\n",
        "            count+=1 #count one pistachio as new inpur\n",
        "            tracks_list.append([[i,new_box,mid_p[1],labels[index]]]) #the new-inserted pistachio begins a new track in the tracks list\n",
        "            indexes[index]=len(tracks_list)-1 #write the track number that this new-inserted pistachio has started\n",
        "          else:\n",
        "            losts.append([i,new_box,mid_p[1],labels[index],index]) #the pistachio will not be considered as a new input and will be added to the losts list\n",
        "        elif mid_p[1]>=end_threshold: #if the pistachio be in the exiting area\n",
        "          indexes[index]='r' #reject to be added to the track list\n",
        "        elif mid_p[1]<end_threshold and mid_p[1]>initial_threshold: #be between the entering and exiting area\n",
        "          losts.append([i,new_box,mid_p[1],labels[index],index]) #add to losts list\n",
        "\n",
        "    for lost in losts: #try to assign the pistachios in the losts list to the pistachios in the 2 to 6 previous frames\n",
        "      possible1=[]\n",
        "      possible2=[]\n",
        "      possible3=[]\n",
        "      possible4=[]\n",
        "      possible5=[]\n",
        "      started_frame=lost[0] #the frame the lost pistachio is in it\n",
        "      for nd,detail in enumerate(tracks_list):\n",
        "        if detail[-1][0]=='END': #not check the ended pistachios (those that were in the exiting area)\n",
        "          continue\n",
        "        ended_frame=detail[-1][0] \n",
        "        if ended_frame==started_frame-2:\n",
        "          possible1.append(nd) #2 previous frames\n",
        "        elif ended_frame==started_frame-3:\n",
        "          possible2.append(nd) #3 previous frames\n",
        "        elif ended_frame==started_frame-4:\n",
        "          possible3.append(nd) #4 previous frames\n",
        "        elif ended_frame==started_frame-5:\n",
        "          possible4.append(nd) #5 previous frames\n",
        "        elif ended_frame==started_frame-6:\n",
        "          possible5.append(nd) #6 previous frames\n",
        "      distances=[]\n",
        "      for p1 in possible1:\n",
        "        distances.append(distance(tracks_list[p1][-1][1],lost[1]))\n",
        "      if len(distances)==0: #if the distances list is empty continue\n",
        "        distances.append(1000)\n",
        "      if min(distances)<=30: \n",
        "        joinable_details_index =possible1[np.argmin(distances)] #add the pistachios that can be joined\n",
        "        tracks_list[joinable_details_index].append(lost[:-1])\n",
        "        indexes[lost[-1]]=joinable_details_index\n",
        "      else: #not joined\n",
        "        distances=[]\n",
        "        for p2 in possible2:\n",
        "          distances.append(distance(tracks_list[p2][-1][1],lost[1]))\n",
        "        if len(distances)==0:\n",
        "          distances.append(1000)\n",
        "        if min(distances)<=45:\n",
        "          joinable_details_index =possible2[np.argmin(distances)]\n",
        "          tracks_list[joinable_details_index].append(lost[:-1])\n",
        "          indexes[lost[-1]]=joinable_details_index\n",
        "        else:        \n",
        "          distances=[]\n",
        "          for p3 in possible3:\n",
        "            distances.append(distance(tracks_list[p3][-1][1],lost[1]))\n",
        "          if len(distances)==0:\n",
        "            distances.append(1000)\n",
        "          if min(distances)<=60:\n",
        "            joinable_details_index =possible3[np.argmin(distances)]\n",
        "            tracks_list[joinable_details_index].append(lost[:-1])\n",
        "            indexes[lost[-1]]=joinable_details_index\n",
        "          else:\n",
        "            distances=[]\n",
        "            for p4 in possible4:\n",
        "              distances.append(distance(tracks_list[p4][-1][1],lost[1]))\n",
        "            if len(distances)==0:\n",
        "              distances.append(1000)\n",
        "            if min(distances)<=75:\n",
        "              joinable_details_index =possible4[np.argmin(distances)]\n",
        "              tracks_list[joinable_details_index].append(lost[:-1])\n",
        "              indexes[lost[-1]]=joinable_details_index\n",
        "            else:\n",
        "              distances=[]\n",
        "              for p5 in possible5:\n",
        "                distances.append(distance(tracks_list[p5][-1][1],lost[1]))\n",
        "              if len(distances)==0:\n",
        "                distances.append(1000)\n",
        "              if min(distances)<=90:\n",
        "                joinable_details_index =possible5[np.argmin(distances)]\n",
        "                tracks_list[joinable_details_index].append(lost[:-1])\n",
        "                indexes[lost[-1]]=joinable_details_index\n",
        "              else: \n",
        "                indexes[lost[-1]]='r'\n",
        "\n",
        "  \n",
        "\n",
        "    indexesb=indexes.copy()\n",
        "    boxesb=boxesl.copy()\n",
        "    previous=current\n",
        "  stop=time.time()\n",
        "  print(stop-start)\n",
        "  o_count=0 #open-mouth pistachios\n",
        "  for track_list in tracks_list:\n",
        "    for track in track_list: \n",
        "      if track[-1][0]==1: #if there is at least one open-mouth pistachio in a track list\n",
        "        o_count+=1 #consider the track list as an open-mouth pistachio\n",
        "        break\n",
        "\n",
        "  print('Counted All: ',count) ##number of all the pistachios\n",
        "  print(\"Counted Open: \",o_count) #number of open-mouth pistachios\n",
        "  print(\"Counted Closed: \",count-o_count) #number of closed-mouth pistachios\n",
        "  return [count,o_count,count-o_count]\n"
      ],
      "execution_count": 0,
      "outputs": []
    },
    {
      "cell_type": "code",
      "metadata": {
        "id": "VP9dWXRLXXmS",
        "colab_type": "code",
        "colab": {}
      },
      "source": [
        "#Load the trained model\n",
        "model_name='drive/My Drive/Pistachio-trained-nets/resnet152_fold1.h5' #from the shared link in the repo, add the trained network to your drive and run the code\n",
        "if 'resnet50' in  model_name:\n",
        "  bn='resnet50'\n",
        "elif 'resnet152' in  model_name:\n",
        "  bn='resnet152'\n",
        "if 'vgg16' in  model_name:\n",
        "  bn='vgg16'\n",
        "tmodel = models.load_model(model_name,backbone_name=bn)\n",
        "model = models.convert_model(tmodel)"
      ],
      "execution_count": 0,
      "outputs": []
    },
    {
      "cell_type": "code",
      "metadata": {
        "id": "dGfN1WoWFNFP",
        "colab_type": "code",
        "colab": {}
      },
      "source": [
        "#extract the frames and detect the pistachios in them\n",
        "frame_generator('drive/My Drive/Pesteh-Set/p50-20.mov') #from the shared link in the repo, add the videos folder to your drive and run the code\n",
        "generator = CSVGenerator('frames/names.csv','frames/classes.csv') \n",
        "all_boxes,all_labels=get_detections(generator,model)"
      ],
      "execution_count": 0,
      "outputs": []
    },
    {
      "cell_type": "code",
      "metadata": {
        "id": "xWJizh22SYcf",
        "colab_type": "code",
        "colab": {}
      },
      "source": [
        "#Count\n",
        "count(model,'drive/My Drive/Pesteh-Set/p50-20.mov',all_boxes,all_labels)"
      ],
      "execution_count": 0,
      "outputs": []
    },
    {
      "cell_type": "code",
      "metadata": {
        "id": "jDqTqUVhSYrv",
        "colab_type": "code",
        "colab": {}
      },
      "source": [
        ""
      ],
      "execution_count": 0,
      "outputs": []
    },
    {
      "cell_type": "code",
      "metadata": {
        "id": "vViOnIiQSYmo",
        "colab_type": "code",
        "colab": {}
      },
      "source": [
        ""
      ],
      "execution_count": 0,
      "outputs": []
    },
    {
      "cell_type": "code",
      "metadata": {
        "id": "vT-spBVKgOJE",
        "colab_type": "code",
        "colab": {}
      },
      "source": [
        ""
      ],
      "execution_count": 0,
      "outputs": []
    },
    {
      "cell_type": "code",
      "metadata": {
        "id": "HwhmzR0PgOMm",
        "colab_type": "code",
        "colab": {}
      },
      "source": [
        ""
      ],
      "execution_count": 0,
      "outputs": []
    },
    {
      "cell_type": "code",
      "metadata": {
        "id": "CXyhXqN-gOPo",
        "colab_type": "code",
        "colab": {}
      },
      "source": [
        ""
      ],
      "execution_count": 0,
      "outputs": []
    },
    {
      "cell_type": "code",
      "metadata": {
        "id": "jPEpF9MvgOSm",
        "colab_type": "code",
        "colab": {}
      },
      "source": [
        ""
      ],
      "execution_count": 0,
      "outputs": []
    },
    {
      "cell_type": "code",
      "metadata": {
        "id": "oW4-OGhAbXMd",
        "colab_type": "code",
        "colab": {}
      },
      "source": [
        ""
      ],
      "execution_count": 0,
      "outputs": []
    },
    {
      "cell_type": "code",
      "metadata": {
        "id": "MXsH-IacbXPu",
        "colab_type": "code",
        "colab": {}
      },
      "source": [
        ""
      ],
      "execution_count": 0,
      "outputs": []
    },
    {
      "cell_type": "code",
      "metadata": {
        "id": "8W8SvoXFVgK2",
        "colab_type": "code",
        "colab": {}
      },
      "source": [
        ""
      ],
      "execution_count": 0,
      "outputs": []
    },
    {
      "cell_type": "code",
      "metadata": {
        "id": "4cTXBPDw_jKx",
        "colab_type": "code",
        "colab": {}
      },
      "source": [
        ""
      ],
      "execution_count": 0,
      "outputs": []
    },
    {
      "cell_type": "code",
      "metadata": {
        "id": "GLE0zNnT_jN3",
        "colab_type": "code",
        "colab": {}
      },
      "source": [
        ""
      ],
      "execution_count": 0,
      "outputs": []
    },
    {
      "cell_type": "code",
      "metadata": {
        "id": "rjKwNrAD_jQy",
        "colab_type": "code",
        "colab": {}
      },
      "source": [
        ""
      ],
      "execution_count": 0,
      "outputs": []
    },
    {
      "cell_type": "code",
      "metadata": {
        "id": "KvJHmnzX_jT1",
        "colab_type": "code",
        "colab": {}
      },
      "source": [
        ""
      ],
      "execution_count": 0,
      "outputs": []
    },
    {
      "cell_type": "code",
      "metadata": {
        "id": "dHgUj97N_jWv",
        "colab_type": "code",
        "colab": {}
      },
      "source": [
        ""
      ],
      "execution_count": 0,
      "outputs": []
    },
    {
      "cell_type": "code",
      "metadata": {
        "id": "q8Ka-vCP_jZc",
        "colab_type": "code",
        "colab": {}
      },
      "source": [
        ""
      ],
      "execution_count": 0,
      "outputs": []
    },
    {
      "cell_type": "code",
      "metadata": {
        "id": "xU5HdPWn_jfG",
        "colab_type": "code",
        "colab": {}
      },
      "source": [
        ""
      ],
      "execution_count": 0,
      "outputs": []
    },
    {
      "cell_type": "code",
      "metadata": {
        "id": "Ax9IS3gf_jiN",
        "colab_type": "code",
        "colab": {}
      },
      "source": [
        ""
      ],
      "execution_count": 0,
      "outputs": []
    },
    {
      "cell_type": "code",
      "metadata": {
        "id": "cWF_Sra0_jkv",
        "colab_type": "code",
        "colab": {}
      },
      "source": [
        ""
      ],
      "execution_count": 0,
      "outputs": []
    },
    {
      "cell_type": "code",
      "metadata": {
        "id": "-FAzyOCC_jnx",
        "colab_type": "code",
        "colab": {}
      },
      "source": [
        ""
      ],
      "execution_count": 0,
      "outputs": []
    },
    {
      "cell_type": "code",
      "metadata": {
        "id": "oZrQ_YGv_jq7",
        "colab_type": "code",
        "colab": {}
      },
      "source": [
        ""
      ],
      "execution_count": 0,
      "outputs": []
    },
    {
      "cell_type": "code",
      "metadata": {
        "id": "W0cG-0Is_juI",
        "colab_type": "code",
        "colab": {}
      },
      "source": [
        ""
      ],
      "execution_count": 0,
      "outputs": []
    }
  ]
}