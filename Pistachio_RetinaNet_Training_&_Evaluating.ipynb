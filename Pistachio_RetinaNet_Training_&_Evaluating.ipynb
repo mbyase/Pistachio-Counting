{
  "nbformat": 4,
  "nbformat_minor": 0,
  "metadata": {
    "colab": {
      "name": "Pistachio-RetinaNet-Training & Evaluating.ipynb",
      "provenance": [],
      "collapsed_sections": [],
      "include_colab_link": true
    },
    "kernelspec": {
      "name": "python3",
      "display_name": "Python 3"
    },
    "accelerator": "GPU"
  },
  "cells": [
    {
      "cell_type": "markdown",
      "metadata": {
        "id": "view-in-github",
        "colab_type": "text"
      },
      "source": [
        "<a href=\"https://colab.research.google.com/github/mr7495/Pistachio-Counting/blob/master/Pistachio_RetinaNet_Training_%26_Evaluating.ipynb\" target=\"_parent\"><img src=\"https://colab.research.google.com/assets/colab-badge.svg\" alt=\"Open In Colab\"/></a>"
      ]
    },
    {
      "cell_type": "code",
      "metadata": {
        "id": "-0QM0hoK74kn",
        "colab_type": "code",
        "colab": {}
      },
      "source": [
        "#Code from https://github.com/mr7495/Pistachio-Counting"
      ],
      "execution_count": 0,
      "outputs": []
    },
    {
      "cell_type": "code",
      "metadata": {
        "id": "Cu9EimQOq4Dh",
        "colab_type": "code",
        "colab": {}
      },
      "source": [
        "# Downgrade the TensorFlow to 1.15 because the current version of RetinaNet does not support higher versions.\n",
        "!pip uninstall tensorflow\n",
        "!pip install tensorflow==1.15\n",
        "!pip install keras --upgrade\n"
      ],
      "execution_count": 0,
      "outputs": []
    },
    {
      "cell_type": "code",
      "metadata": {
        "id": "CL1VlJV8hxnL",
        "colab_type": "code",
        "colab": {}
      },
      "source": [
        "!pip install git+https://github.com/mr7495/RetinaNet --upgrade"
      ],
      "execution_count": 0,
      "outputs": []
    },
    {
      "cell_type": "code",
      "metadata": {
        "id": "G9Zbl-aeh7fh",
        "colab_type": "code",
        "colab": {}
      },
      "source": [
        "!git clone https://github.com/mr7495/RetinaNet"
      ],
      "execution_count": 0,
      "outputs": []
    },
    {
      "cell_type": "code",
      "metadata": {
        "id": "Gs7th6PRnnKM",
        "colab_type": "code",
        "colab": {}
      },
      "source": [
        "!git clone https://github.com/mr7495/Pistachio-Counting"
      ],
      "execution_count": 0,
      "outputs": []
    },
    {
      "cell_type": "code",
      "metadata": {
        "id": "NpLPfkhPh8yw",
        "colab_type": "code",
        "colab": {}
      },
      "source": [
        "cd RetinaNet"
      ],
      "execution_count": 0,
      "outputs": []
    },
    {
      "cell_type": "code",
      "metadata": {
        "id": "zTWxi9i9k6nF",
        "colab_type": "code",
        "colab": {}
      },
      "source": [
        "!python setup.py build_ext --inplace"
      ],
      "execution_count": 0,
      "outputs": []
    },
    {
      "cell_type": "code",
      "metadata": {
        "id": "aG-zAo_NiGxK",
        "colab_type": "code",
        "colab": {}
      },
      "source": [
        "cd .."
      ],
      "execution_count": 0,
      "outputs": []
    },
    {
      "cell_type": "code",
      "metadata": {
        "id": "W1XoObGCAOf9",
        "colab_type": "code",
        "colab": {}
      },
      "source": [
        "# Start Training\n",
        "# The number 1 in train1 & test1 refers to the first fold. If you want to train on other folds like fold2 change train1 & test1 with train2 & test2\n",
        "import keras.backend as k\n",
        "k.clear_session()\n",
        "!RetinaNet/keras_retinanet/bin/train.py --epoch=50 --step=1017 --batch-size=1  --random-transform --backbone='resnet152' csv 'Pistachio-Counting/pesteh_set/train1.csv' 'Pistachio-Counting/pesteh_set/classes.csv' --val-annotations='Pistachio-Counting/pesteh_set/test1.csv'"
      ],
      "execution_count": 0,
      "outputs": []
    },
    {
      "cell_type": "code",
      "metadata": {
        "id": "mtWQwiNysYXi",
        "colab_type": "code",
        "colab": {}
      },
      "source": [
        "import keras\n",
        "from keras_retinanet import models\n",
        "from keras_retinanet.utils.image import read_image_bgr, preprocess_image, resize_image\n",
        "from keras_retinanet.utils.visualization import draw_box, draw_caption\n",
        "from keras_retinanet.utils.colors import label_color\n",
        "import cv2\n",
        "import os\n",
        "import numpy as np\n",
        "import time\n",
        "import tensorflow as tf\n",
        "import csv\n",
        "import shutil\n",
        "import keras.backend as k\n",
        "from keras_retinanet.preprocessing.csv_generator import CSVGenerator\n",
        "from keras_retinanet.utils.eval import _get_detections,_get_annotations,evaluate"
      ],
      "execution_count": 0,
      "outputs": []
    },
    {
      "cell_type": "code",
      "metadata": {
        "id": "19ieZBwPs26I",
        "colab_type": "code",
        "colab": {}
      },
      "source": [
        "#Add the trained networks to the list\n",
        "nets=[]\n",
        "for r,d,f in os.walk('snapshots'):\n",
        "  for file in f:\n",
        "    if '.h5' in file:\n",
        "      if name in file:\n",
        "        nets.append(os.path.join(r,file))"
      ],
      "execution_count": 0,
      "outputs": []
    },
    {
      "cell_type": "code",
      "metadata": {
        "id": "1gCdG6PD7FeG",
        "colab_type": "code",
        "colab": {}
      },
      "source": [
        "#In the next Cell we evaluate the trained networks"
      ],
      "execution_count": 0,
      "outputs": []
    },
    {
      "cell_type": "code",
      "metadata": {
        "id": "bTe1MCFwssrB",
        "colab_type": "code",
        "colab": {}
      },
      "source": [
        "#Evaluation Metrics :Recall, Precision, F1 score, accuracy for each class and all the classes.\n",
        "#Also Average Precision(AP) for each of the classes and mean average precision(map) for all of th classes\n",
        "data={'Net':['FOLD','AP_0','AP_1','f1_0','f1_1','acc_0','acc_1','recall_0','recall_1','prec_0','prec_1','tp_0',\n",
        "      'tp_1','fp_0','fp_1','fn_0','fn_1','TP','FP','FN','AP','F1','ACC','RECALL','PREC','number_0','number_1','NUMBER']}\n",
        "\n",
        "fold_num=2 #choose fold number\n",
        "for model_name in nets:\n",
        "  k.clear_session()\n",
        "  if 'resnet50' in  model_name:\n",
        "    bn='resnet50'\n",
        "  elif 'resnet152' in  model_name:\n",
        "    bn='resnet152'\n",
        "  if 'vgg16' in  model_name:\n",
        "    bn='vgg16'\n",
        "  tmodel = models.load_model(model_name,backbone_name=bn)\n",
        "  model = models.convert_model(tmodel)\n",
        "  generator = CSVGenerator('Pistachio-Counting/pesteh_set/test{}.csv'.format(fold_num),'Pistachio-Counting/pesteh_set/classes.csv')\n",
        "  ap, f1_score, accuracy,recall,precision,TPL,FPL=evaluate(generator,model)\n",
        "\n",
        "  ap_zero=ap[0][0] # average precision for class 1\n",
        "  ap_one=ap[1][0] # average precision for class 2\n",
        "  f1_zero=f1_score[0]\n",
        "  f1_one=f1_score[1]\n",
        "  acc_zero=accuracy[0]\n",
        "  acc_one=accuracy[1]\n",
        "  recall_zero=recall[0]\n",
        "  recall_one=recall[1]\n",
        "  prec_zero=precision[0]\n",
        "  prec_one=precision[1]\n",
        "  tp_zero=TPL[0]\n",
        "  tp_one=TPL[1]\n",
        "  fp_zero=FPL[0]\n",
        "  fp_one=FPL[1]\n",
        "  TP=tp_zero+tp_one\n",
        "  FP=fp_zero+fp_one\n",
        "  number_zero=ap[0][1]\n",
        "  number_one=ap[1][1]\n",
        "  fn_zero=number_zero-tp_zero\n",
        "  fn_one=number_one-tp_one\n",
        "  FN=fn_zero+fn_one\n",
        "  RECALL=TP/(TP+FN)\n",
        "  PRECISION=TP/(TP+FP)\n",
        "  F1_SCORE=(2*PRECISION*RECALL)/(PRECISION+RECALL)\n",
        "  ACCURACY=TP/(TP+FP+FN)\n",
        "\n",
        "\n",
        "  total_instances = []\n",
        "  precisions = []\n",
        "  for label, (average_precision, num_annotations) in ap.items():\n",
        "      total_instances.append(num_annotations)\n",
        "      precisions.append(average_precision)\n",
        "  MAP = sum(precisions) / sum(x > 0 for x in total_instances) #calculate the mean average precision\n",
        "\n",
        "\n",
        "  data[model_name]=[fold_num,ap_zero,ap_one,f1_zero,f1_one,acc_zero,acc_one,recall_zero,recall_one,prec_zero,prec_one,\n",
        "                    tp_zero,tp_one,fp_zero,fp_one,fn_zero,fn_one,TP,FP,FN,MAP,F1_SCORE,ACCURACY,RECALL,PRECISION,number_zero,number_one,number_zero+number_one]\n",
        "with open('Pistachio_detection.csv', mode='w',newline='') as csv_file: # write the results to a csv file\n",
        "    csvwriter = csv.writer(csv_file, delimiter=',', quotechar='\"',quoting=csv.QUOTE_MINIMAL)\n",
        "    for key in data:\n",
        "        write_data=[key]\n",
        "        write_data.extend(data[key])\n",
        "        csvwriter.writerow(write_data)"
      ],
      "execution_count": 0,
      "outputs": []
    }
  ]
}